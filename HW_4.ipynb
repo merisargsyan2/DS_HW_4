{
 "cells": [
  {
   "cell_type": "code",
   "execution_count": 31,
   "metadata": {},
   "outputs": [],
   "source": [
    "import re\n",
    "import lyricsgenius\n",
    "import pandas as pd\n",
    "from textblob import TextBlob, Word\n",
    "import nltk\n",
    "from nltk.corpus import stopwords, wordnet\n",
    "from nltk.tokenize import sent_tokenize, word_tokenize\n",
    "from nltk.stem import PorterStemmer, WordNetLemmatizer\n",
    "import wikipedia\n",
    "from collections import Counter"
   ]
  },
  {
   "cell_type": "markdown",
   "metadata": {},
   "source": [
    "# 1"
   ]
  },
  {
   "cell_type": "code",
   "execution_count": 2,
   "metadata": {},
   "outputs": [],
   "source": [
    "genius = lyricsgenius.Genius(\"PAHsckOS0w26KxYxe3R_1U7y87eXsYhiTe9ifRl89WbmImP_suZsw3MVLqDRGYaw\")\n",
    "genius.excluded_terms = [\"(Remix)\", \"(Live)\"] "
   ]
  },
  {
   "cell_type": "code",
   "execution_count": 3,
   "metadata": {},
   "outputs": [],
   "source": [
    "my_artists = [\"Beyonce\",\"Bruno Mars\",\"John Legend\"]"
   ]
  },
  {
   "cell_type": "code",
   "execution_count": 5,
   "metadata": {},
   "outputs": [
    {
     "name": "stdout",
     "output_type": "stream",
     "text": [
      "Searching for songs by Beyonce...\n",
      "\n",
      "Changing artist name to 'Beyoncé'\n",
      "Song 1: \"Drunk in Love\"\n",
      "Song 2: \"FORMATION\"\n",
      "Song 3: \"Partition\"\n",
      "Song 4: \"Mine\"\n",
      "Song 5: \"HOLD UP\"\n",
      "\n",
      "Reached user-specified song limit (5).\n",
      "Done. Found 5 songs.\n",
      "Searching for songs by Bruno Mars...\n",
      "\n",
      "Song 1: \"That’s What I Like\"\n",
      "\"Finesse (Remix)\" is not valid. Skipping.\n",
      "Song 2: \"Versace on the Floor\"\n",
      "Song 3: \"24K Magic\"\n",
      "Song 4: \"When I Was Your Man\"\n",
      "Song 5: \"Finesse\"\n",
      "\n",
      "Reached user-specified song limit (5).\n",
      "Done. Found 5 songs.\n",
      "Searching for songs by John Legend...\n",
      "\n",
      "Song 1: \"All of Me\"\n",
      "Song 2: \"You & I (Nobody in the World)\"\n",
      "\"POWER (Remix)\" is not valid. Skipping.\n",
      "Song 3: \"Love Me Now\"\n",
      "\"All of the Lights (Remix)\" is not valid. Skipping.\n",
      "Song 4: \"Made to Love\"\n",
      "Song 5: \"Ordinary People\"\n",
      "\n",
      "Reached user-specified song limit (5).\n",
      "Done. Found 5 songs.\n"
     ]
    }
   ],
   "source": [
    "songs = []\n",
    "for i in my_artists:\n",
    "    artist = genius.search_artist(i, max_songs=5, sort=\"popularity\")\n",
    "    songs.append(artist.songs)"
   ]
  },
  {
   "cell_type": "code",
   "execution_count": 6,
   "metadata": {},
   "outputs": [],
   "source": [
    "artists = []\n",
    "for n in range(3):\n",
    "    artists += [songs[n][i].artist for i in range(5)]"
   ]
  },
  {
   "cell_type": "code",
   "execution_count": 7,
   "metadata": {},
   "outputs": [
    {
     "data": {
      "text/plain": [
       "['Beyoncé',\n",
       " 'Beyoncé',\n",
       " 'Beyoncé',\n",
       " 'Beyoncé',\n",
       " 'Beyoncé',\n",
       " 'Bruno Mars',\n",
       " 'Bruno Mars',\n",
       " 'Bruno Mars',\n",
       " 'Bruno Mars',\n",
       " 'Bruno Mars',\n",
       " 'John Legend',\n",
       " 'John Legend',\n",
       " 'John Legend',\n",
       " 'John Legend',\n",
       " 'John Legend']"
      ]
     },
     "execution_count": 7,
     "metadata": {},
     "output_type": "execute_result"
    }
   ],
   "source": [
    "artists"
   ]
  },
  {
   "cell_type": "code",
   "execution_count": 8,
   "metadata": {},
   "outputs": [],
   "source": [
    "titles = []\n",
    "for n in range(3):\n",
    "    titles += [songs[n][i].title for i in range(5)]"
   ]
  },
  {
   "cell_type": "code",
   "execution_count": 9,
   "metadata": {},
   "outputs": [
    {
     "data": {
      "text/plain": [
       "['Drunk in Love',\n",
       " 'FORMATION',\n",
       " 'Partition',\n",
       " 'Mine',\n",
       " 'HOLD UP',\n",
       " 'That’s What I Like',\n",
       " 'Versace on the Floor',\n",
       " '24K Magic',\n",
       " 'When I Was Your Man',\n",
       " 'Finesse',\n",
       " 'All of Me',\n",
       " 'You & I (Nobody in the World)',\n",
       " 'Love Me Now',\n",
       " 'Made to Love',\n",
       " 'Ordinary People']"
      ]
     },
     "execution_count": 9,
     "metadata": {},
     "output_type": "execute_result"
    }
   ],
   "source": [
    "titles"
   ]
  },
  {
   "cell_type": "markdown",
   "metadata": {},
   "source": [
    "# 1-a "
   ]
  },
  {
   "cell_type": "code",
   "execution_count": 10,
   "metadata": {},
   "outputs": [],
   "source": [
    "lyrics = []\n",
    "for n in range(3):\n",
    "    lyrics += [songs[n][i].lyrics for i in range(5)]"
   ]
  },
  {
   "cell_type": "code",
   "execution_count": 54,
   "metadata": {},
   "outputs": [],
   "source": [
    "#print(lyrics)"
   ]
  },
  {
   "cell_type": "code",
   "execution_count": 12,
   "metadata": {},
   "outputs": [],
   "source": [
    "years = []\n",
    "for n in range(3):\n",
    "    years += [songs[n][i].year for i in range(5)]"
   ]
  },
  {
   "cell_type": "code",
   "execution_count": 13,
   "metadata": {},
   "outputs": [],
   "source": [
    "only_years = [years[i][:4] for i in range(len(years))]"
   ]
  },
  {
   "cell_type": "code",
   "execution_count": 14,
   "metadata": {},
   "outputs": [
    {
     "data": {
      "text/plain": [
       "['2013',\n",
       " '2016',\n",
       " '2013',\n",
       " '2013',\n",
       " '2016',\n",
       " '2016',\n",
       " '2016',\n",
       " '2016',\n",
       " '2013',\n",
       " '2016',\n",
       " '2013',\n",
       " '2013',\n",
       " '2016',\n",
       " '2013',\n",
       " '2004']"
      ]
     },
     "execution_count": 14,
     "metadata": {},
     "output_type": "execute_result"
    }
   ],
   "source": [
    "only_years"
   ]
  },
  {
   "cell_type": "code",
   "execution_count": 15,
   "metadata": {},
   "outputs": [],
   "source": [
    "def get_score(text):\n",
    "    sentiment = TextBlob(text).sentiment[0]\n",
    "    return sentiment"
   ]
  },
  {
   "cell_type": "code",
   "execution_count": 16,
   "metadata": {},
   "outputs": [],
   "source": [
    "sentiment_score = [get_score(lyrics[i]) for i in range(len(lyrics))]"
   ]
  },
  {
   "cell_type": "code",
   "execution_count": 17,
   "metadata": {},
   "outputs": [
    {
     "data": {
      "text/plain": [
       "[0.17728696741854635,\n",
       " 0.3023301801079579,\n",
       " 0.14489417989417988,\n",
       " 0.1773511904761903,\n",
       " 0.14553298383573612,\n",
       " 0.3537878787878787,\n",
       " 0.14249084249084248,\n",
       " 0.12333762333762333,\n",
       " 0.03156565656565657,\n",
       " 0.2625850340136055,\n",
       " 0.2622420634920635,\n",
       " 0.24285714285714285,\n",
       " 0.40787190845330384,\n",
       " 0.4005952380952381,\n",
       " -0.14222190852625632]"
      ]
     },
     "execution_count": 17,
     "metadata": {},
     "output_type": "execute_result"
    }
   ],
   "source": [
    "sentiment_score"
   ]
  },
  {
   "cell_type": "markdown",
   "metadata": {},
   "source": [
    "# 1-b"
   ]
  },
  {
   "cell_type": "code",
   "execution_count": 18,
   "metadata": {},
   "outputs": [],
   "source": [
    "df = pd.DataFrame(columns=['Artist', 'Song', 'Lyrics','Year','Sentiment_Score'])"
   ]
  },
  {
   "cell_type": "code",
   "execution_count": 19,
   "metadata": {},
   "outputs": [],
   "source": [
    "df.Artist = artists"
   ]
  },
  {
   "cell_type": "code",
   "execution_count": 20,
   "metadata": {},
   "outputs": [],
   "source": [
    "df.Song = titles"
   ]
  },
  {
   "cell_type": "code",
   "execution_count": 21,
   "metadata": {},
   "outputs": [],
   "source": [
    "df.Lyrics = lyrics"
   ]
  },
  {
   "cell_type": "code",
   "execution_count": 22,
   "metadata": {},
   "outputs": [],
   "source": [
    "df.Year = only_years"
   ]
  },
  {
   "cell_type": "code",
   "execution_count": 23,
   "metadata": {},
   "outputs": [],
   "source": [
    "df.Sentiment_Score = sentiment_score"
   ]
  },
  {
   "cell_type": "code",
   "execution_count": 24,
   "metadata": {},
   "outputs": [
    {
     "data": {
      "text/html": [
       "<div>\n",
       "<style scoped>\n",
       "    .dataframe tbody tr th:only-of-type {\n",
       "        vertical-align: middle;\n",
       "    }\n",
       "\n",
       "    .dataframe tbody tr th {\n",
       "        vertical-align: top;\n",
       "    }\n",
       "\n",
       "    .dataframe thead th {\n",
       "        text-align: right;\n",
       "    }\n",
       "</style>\n",
       "<table border=\"1\" class=\"dataframe\">\n",
       "  <thead>\n",
       "    <tr style=\"text-align: right;\">\n",
       "      <th></th>\n",
       "      <th>Artist</th>\n",
       "      <th>Song</th>\n",
       "      <th>Lyrics</th>\n",
       "      <th>Year</th>\n",
       "      <th>Sentiment_Score</th>\n",
       "    </tr>\n",
       "  </thead>\n",
       "  <tbody>\n",
       "    <tr>\n",
       "      <th>0</th>\n",
       "      <td>Beyoncé</td>\n",
       "      <td>Drunk in Love</td>\n",
       "      <td>[Verse 1: Beyoncé]\\nI've been drinkin', I've b...</td>\n",
       "      <td>2013</td>\n",
       "      <td>0.177287</td>\n",
       "    </tr>\n",
       "    <tr>\n",
       "      <th>1</th>\n",
       "      <td>Beyoncé</td>\n",
       "      <td>FORMATION</td>\n",
       "      <td>[Intro: Messy Mya]\\nWhat happened at the New W...</td>\n",
       "      <td>2016</td>\n",
       "      <td>0.302330</td>\n",
       "    </tr>\n",
       "    <tr>\n",
       "      <th>2</th>\n",
       "      <td>Beyoncé</td>\n",
       "      <td>Partition</td>\n",
       "      <td>[Part 1: Yoncé]\\n\\n[Intro]\\nLet me hear you sa...</td>\n",
       "      <td>2013</td>\n",
       "      <td>0.144894</td>\n",
       "    </tr>\n",
       "    <tr>\n",
       "      <th>3</th>\n",
       "      <td>Beyoncé</td>\n",
       "      <td>Mine</td>\n",
       "      <td>[Produced by Noah “40” Shebib, Beyoncé Knowles...</td>\n",
       "      <td>2013</td>\n",
       "      <td>0.177351</td>\n",
       "    </tr>\n",
       "    <tr>\n",
       "      <th>4</th>\n",
       "      <td>Beyoncé</td>\n",
       "      <td>HOLD UP</td>\n",
       "      <td>[Chorus]\\nHold up, they don't love you like I ...</td>\n",
       "      <td>2016</td>\n",
       "      <td>0.145533</td>\n",
       "    </tr>\n",
       "    <tr>\n",
       "      <th>5</th>\n",
       "      <td>Bruno Mars</td>\n",
       "      <td>That’s What I Like</td>\n",
       "      <td>[Verse 1]\\nHey, hey, hey\\nI got a condo in Man...</td>\n",
       "      <td>2016</td>\n",
       "      <td>0.353788</td>\n",
       "    </tr>\n",
       "    <tr>\n",
       "      <th>6</th>\n",
       "      <td>Bruno Mars</td>\n",
       "      <td>Versace on the Floor</td>\n",
       "      <td>[Verse 1]\\nLet's take our time tonight, girl\\n...</td>\n",
       "      <td>2016</td>\n",
       "      <td>0.142491</td>\n",
       "    </tr>\n",
       "    <tr>\n",
       "      <th>7</th>\n",
       "      <td>Bruno Mars</td>\n",
       "      <td>24K Magic</td>\n",
       "      <td>[Intro]\\nTonight\\nI just want to take you high...</td>\n",
       "      <td>2016</td>\n",
       "      <td>0.123338</td>\n",
       "    </tr>\n",
       "    <tr>\n",
       "      <th>8</th>\n",
       "      <td>Bruno Mars</td>\n",
       "      <td>When I Was Your Man</td>\n",
       "      <td>[Verse 1]\\nSame bed but it feels just a little...</td>\n",
       "      <td>2013</td>\n",
       "      <td>0.031566</td>\n",
       "    </tr>\n",
       "    <tr>\n",
       "      <th>9</th>\n",
       "      <td>Bruno Mars</td>\n",
       "      <td>Finesse</td>\n",
       "      <td>[Verse 1]\\nOoh, don't we look good together?\\n...</td>\n",
       "      <td>2016</td>\n",
       "      <td>0.262585</td>\n",
       "    </tr>\n",
       "    <tr>\n",
       "      <th>10</th>\n",
       "      <td>John Legend</td>\n",
       "      <td>All of Me</td>\n",
       "      <td>[Verse 1]\\nWhat would I do without your smart ...</td>\n",
       "      <td>2013</td>\n",
       "      <td>0.262242</td>\n",
       "    </tr>\n",
       "    <tr>\n",
       "      <th>11</th>\n",
       "      <td>John Legend</td>\n",
       "      <td>You &amp; I (Nobody in the World)</td>\n",
       "      <td>[Produced by Dave Tozer, John Legend &amp; Malay]\\...</td>\n",
       "      <td>2013</td>\n",
       "      <td>0.242857</td>\n",
       "    </tr>\n",
       "    <tr>\n",
       "      <th>12</th>\n",
       "      <td>John Legend</td>\n",
       "      <td>Love Me Now</td>\n",
       "      <td>[Verse 1]\\nPulling me further, further than I'...</td>\n",
       "      <td>2016</td>\n",
       "      <td>0.407872</td>\n",
       "    </tr>\n",
       "    <tr>\n",
       "      <th>13</th>\n",
       "      <td>John Legend</td>\n",
       "      <td>Made to Love</td>\n",
       "      <td>[Produced by Dave Tozer, Da Internz, Kanye Wes...</td>\n",
       "      <td>2013</td>\n",
       "      <td>0.400595</td>\n",
       "    </tr>\n",
       "    <tr>\n",
       "      <th>14</th>\n",
       "      <td>John Legend</td>\n",
       "      <td>Ordinary People</td>\n",
       "      <td>[Intro]\\nOh, oh, oh, oh\\n\\n[Verse 1]\\nGirl, I'...</td>\n",
       "      <td>2004</td>\n",
       "      <td>-0.142222</td>\n",
       "    </tr>\n",
       "  </tbody>\n",
       "</table>\n",
       "</div>"
      ],
      "text/plain": [
       "         Artist                           Song  \\\n",
       "0       Beyoncé                  Drunk in Love   \n",
       "1       Beyoncé                      FORMATION   \n",
       "2       Beyoncé                      Partition   \n",
       "3       Beyoncé                           Mine   \n",
       "4       Beyoncé                        HOLD UP   \n",
       "5    Bruno Mars             That’s What I Like   \n",
       "6    Bruno Mars           Versace on the Floor   \n",
       "7    Bruno Mars                      24K Magic   \n",
       "8    Bruno Mars            When I Was Your Man   \n",
       "9    Bruno Mars                        Finesse   \n",
       "10  John Legend                      All of Me   \n",
       "11  John Legend  You & I (Nobody in the World)   \n",
       "12  John Legend                    Love Me Now   \n",
       "13  John Legend                   Made to Love   \n",
       "14  John Legend                Ordinary People   \n",
       "\n",
       "                                               Lyrics  Year  Sentiment_Score  \n",
       "0   [Verse 1: Beyoncé]\\nI've been drinkin', I've b...  2013         0.177287  \n",
       "1   [Intro: Messy Mya]\\nWhat happened at the New W...  2016         0.302330  \n",
       "2   [Part 1: Yoncé]\\n\\n[Intro]\\nLet me hear you sa...  2013         0.144894  \n",
       "3   [Produced by Noah “40” Shebib, Beyoncé Knowles...  2013         0.177351  \n",
       "4   [Chorus]\\nHold up, they don't love you like I ...  2016         0.145533  \n",
       "5   [Verse 1]\\nHey, hey, hey\\nI got a condo in Man...  2016         0.353788  \n",
       "6   [Verse 1]\\nLet's take our time tonight, girl\\n...  2016         0.142491  \n",
       "7   [Intro]\\nTonight\\nI just want to take you high...  2016         0.123338  \n",
       "8   [Verse 1]\\nSame bed but it feels just a little...  2013         0.031566  \n",
       "9   [Verse 1]\\nOoh, don't we look good together?\\n...  2016         0.262585  \n",
       "10  [Verse 1]\\nWhat would I do without your smart ...  2013         0.262242  \n",
       "11  [Produced by Dave Tozer, John Legend & Malay]\\...  2013         0.242857  \n",
       "12  [Verse 1]\\nPulling me further, further than I'...  2016         0.407872  \n",
       "13  [Produced by Dave Tozer, Da Internz, Kanye Wes...  2013         0.400595  \n",
       "14  [Intro]\\nOh, oh, oh, oh\\n\\n[Verse 1]\\nGirl, I'...  2004        -0.142222  "
      ]
     },
     "execution_count": 24,
     "metadata": {},
     "output_type": "execute_result"
    }
   ],
   "source": [
    "df"
   ]
  },
  {
   "cell_type": "markdown",
   "metadata": {},
   "source": [
    "# 1-c Most positive 2 songs : 1- John Legend, Love Me Now, 2- John Legend, Made to Love\n",
    "# Most negative 2 songs : 1- John Legend, Ordinary People, 2- Bruno Mars, When I Was Your Man"
   ]
  },
  {
   "cell_type": "code",
   "execution_count": 25,
   "metadata": {},
   "outputs": [],
   "source": [
    "most_positive = df.sort_values(by = \"Sentiment_Score\",ascending=False).head(2)"
   ]
  },
  {
   "cell_type": "code",
   "execution_count": 26,
   "metadata": {},
   "outputs": [
    {
     "data": {
      "text/html": [
       "<div>\n",
       "<style scoped>\n",
       "    .dataframe tbody tr th:only-of-type {\n",
       "        vertical-align: middle;\n",
       "    }\n",
       "\n",
       "    .dataframe tbody tr th {\n",
       "        vertical-align: top;\n",
       "    }\n",
       "\n",
       "    .dataframe thead th {\n",
       "        text-align: right;\n",
       "    }\n",
       "</style>\n",
       "<table border=\"1\" class=\"dataframe\">\n",
       "  <thead>\n",
       "    <tr style=\"text-align: right;\">\n",
       "      <th></th>\n",
       "      <th>Artist</th>\n",
       "      <th>Song</th>\n",
       "      <th>Lyrics</th>\n",
       "      <th>Year</th>\n",
       "      <th>Sentiment_Score</th>\n",
       "    </tr>\n",
       "  </thead>\n",
       "  <tbody>\n",
       "    <tr>\n",
       "      <th>12</th>\n",
       "      <td>John Legend</td>\n",
       "      <td>Love Me Now</td>\n",
       "      <td>[Verse 1]\\nPulling me further, further than I'...</td>\n",
       "      <td>2016</td>\n",
       "      <td>0.407872</td>\n",
       "    </tr>\n",
       "    <tr>\n",
       "      <th>13</th>\n",
       "      <td>John Legend</td>\n",
       "      <td>Made to Love</td>\n",
       "      <td>[Produced by Dave Tozer, Da Internz, Kanye Wes...</td>\n",
       "      <td>2013</td>\n",
       "      <td>0.400595</td>\n",
       "    </tr>\n",
       "  </tbody>\n",
       "</table>\n",
       "</div>"
      ],
      "text/plain": [
       "         Artist          Song  \\\n",
       "12  John Legend   Love Me Now   \n",
       "13  John Legend  Made to Love   \n",
       "\n",
       "                                               Lyrics  Year  Sentiment_Score  \n",
       "12  [Verse 1]\\nPulling me further, further than I'...  2016         0.407872  \n",
       "13  [Produced by Dave Tozer, Da Internz, Kanye Wes...  2013         0.400595  "
      ]
     },
     "execution_count": 26,
     "metadata": {},
     "output_type": "execute_result"
    }
   ],
   "source": [
    "most_positive"
   ]
  },
  {
   "cell_type": "code",
   "execution_count": 27,
   "metadata": {},
   "outputs": [],
   "source": [
    "most_negative = df.sort_values(by = \"Sentiment_Score\",ascending=True).head(2)"
   ]
  },
  {
   "cell_type": "code",
   "execution_count": 28,
   "metadata": {},
   "outputs": [
    {
     "data": {
      "text/html": [
       "<div>\n",
       "<style scoped>\n",
       "    .dataframe tbody tr th:only-of-type {\n",
       "        vertical-align: middle;\n",
       "    }\n",
       "\n",
       "    .dataframe tbody tr th {\n",
       "        vertical-align: top;\n",
       "    }\n",
       "\n",
       "    .dataframe thead th {\n",
       "        text-align: right;\n",
       "    }\n",
       "</style>\n",
       "<table border=\"1\" class=\"dataframe\">\n",
       "  <thead>\n",
       "    <tr style=\"text-align: right;\">\n",
       "      <th></th>\n",
       "      <th>Artist</th>\n",
       "      <th>Song</th>\n",
       "      <th>Lyrics</th>\n",
       "      <th>Year</th>\n",
       "      <th>Sentiment_Score</th>\n",
       "    </tr>\n",
       "  </thead>\n",
       "  <tbody>\n",
       "    <tr>\n",
       "      <th>14</th>\n",
       "      <td>John Legend</td>\n",
       "      <td>Ordinary People</td>\n",
       "      <td>[Intro]\\nOh, oh, oh, oh\\n\\n[Verse 1]\\nGirl, I'...</td>\n",
       "      <td>2004</td>\n",
       "      <td>-0.142222</td>\n",
       "    </tr>\n",
       "    <tr>\n",
       "      <th>8</th>\n",
       "      <td>Bruno Mars</td>\n",
       "      <td>When I Was Your Man</td>\n",
       "      <td>[Verse 1]\\nSame bed but it feels just a little...</td>\n",
       "      <td>2013</td>\n",
       "      <td>0.031566</td>\n",
       "    </tr>\n",
       "  </tbody>\n",
       "</table>\n",
       "</div>"
      ],
      "text/plain": [
       "         Artist                 Song  \\\n",
       "14  John Legend      Ordinary People   \n",
       "8    Bruno Mars  When I Was Your Man   \n",
       "\n",
       "                                               Lyrics  Year  Sentiment_Score  \n",
       "14  [Intro]\\nOh, oh, oh, oh\\n\\n[Verse 1]\\nGirl, I'...  2004        -0.142222  \n",
       "8   [Verse 1]\\nSame bed but it feels just a little...  2013         0.031566  "
      ]
     },
     "execution_count": 28,
     "metadata": {},
     "output_type": "execute_result"
    }
   ],
   "source": [
    "most_negative"
   ]
  },
  {
   "cell_type": "markdown",
   "metadata": {},
   "source": [
    "# 2"
   ]
  },
  {
   "cell_type": "code",
   "execution_count": 38,
   "metadata": {},
   "outputs": [],
   "source": [
    "wikipedia.set_lang(\"ru\")"
   ]
  },
  {
   "cell_type": "code",
   "execution_count": 39,
   "metadata": {},
   "outputs": [],
   "source": [
    "summary = [wikipedia.summary(i) for i in my_artists]"
   ]
  },
  {
   "cell_type": "markdown",
   "metadata": {},
   "source": [
    "# 2-a"
   ]
  },
  {
   "cell_type": "code",
   "execution_count": 40,
   "metadata": {
    "collapsed": true
   },
   "outputs": [
    {
     "data": {
      "text/plain": [
       "['Бейо́нсе Жизе́ль Но́улз-Картер (англ. Beyoncé Giselle Knowles-Carter; род. 4 сентября 1981, Хьюстон), более известная просто как Бейо́нсе (произносится /biˈjɒnseɪ/ би-йон-сей) — американская певица в стиле R’n’B, актриса, танцовщица, музыкальный продюсер. Ещё будучи ребёнком, участвовала в разных вокальных и танцевальных конкурсах, в школе также принимала участие в различных художественных выступлениях. Ноулз прославилась в конце 1990-х годов, будучи солисткой женской R&B группы Destiny’s Child.\\nВо время раскола Destiny’s Child Ноулз выпустила свой дебютный сольный альбом Dangerously in Love (2003), в который входили такие хиты, как «Crazy in Love» и «Baby Boy», и который стал одним из самых успешных альбомов 2003 года. За этот альбом Ноулз получила рекордные пять «Грэмми».\\nВ 2006 году, спустя год после окончательного развала группы, Бейонсе выпустила альбом B’Day, который занял первую строку в чартах Billboard и включал хиты «Déjà Vu», «Irreplaceable» и «Beautiful Liar». Её третий сольный альбом I Am… Sasha Fierce, выпущенный в ноябре 2008 года, включал хит «Single Ladies (Put a Ring on It)». Альбом и его синглы заработали шесть Grammy Award, что стало рекордом для певицы.\\nБейонсе — одна из самых успешных артисток «Грэмми», получившая 20 наград, 17 из которых получены ею как сольной исполнительницей и три — как участницей группы Destiny’s Child.\\nНоулз начала актёрскую карьеру в 2001 году, появившись в музыкальном фильме «Кармен: Хип-хопера». В 2006 году она снялась в главной роли в фильме-адаптации бродвейского мюзикла 1981 года «Девушки мечты», за который она была номинирована на «Золотой глобус». В 2004 году Ноулз запустила семейную линию одежды House of Deréon и подписала контракт с такими брендами, как Pepsi, Tommy Hilfiger, Armani и L’Oréal. В 2010 году журнал Forbes поместил Ноулз на вторую строку в списке 100 самых влиятельных знаменитостей в мире; она также была включена в список самых влиятельных музыкантов в мире.\\nЖурнал Time включил Ноулз в список 100 самых влиятельных людей мира.\\nНоулз заняла пятое место в Hot 100 синглов номер один как сольная исполнительница и четвёртое место с Destiny’s Child, как сольная артистка она распродала более 35 миллионов альбомов и синглов в США.\\nСогласно данным звукозаписывающей компании Sony, её общие продажи записей в составе группы превзошли 100 миллионов. 11 декабря 2009 года Billboard объявил Ноулз самой успешной исполнительницей 2000-х годов и главной радио-исполнительницей десятилетия.\\nВ феврале 2010 RIAA зарегистрировал её как артистку с самым большим количеством сертификатов RIAA за десятилетие.',\n",
       " \"Пи́тер Джин Эрна́ндес (англ. Peter Gene Hernandez), известный под псевдонимом Бру́но Марс (англ. Bruno Mars, [ˈbrunoʊ̯ ˈmɑɹz]; род. 8 октября 1985, Гонолулу, Гавайи, США) — американский певец, автор песен, музыкальный продюсер, мультиинструменталист и танцор. Известен своими сценическими выступлениями, ретро артистизмом и выступлениями в широком спектре музыкальных стилей, включая R&B, фанк, поп, соул, регги, хип-хоп и рок. Марса сопровождает его группа The Hooligans, которая играет на различных инструментах, таких как электрогитара, бас, пианино, клавишные, барабаны и духовые, а также выступает в качестве запасных певцов и танцоров. \\nРодившийся и выросший в Гонолулу, Гавайи, Марс переехал в Лос-Анджелес в 2003 году, чтобы сделать музыкальную карьеру. После прекращения работы с Motown Records, подписал контракт на запись с Atlantic Records в 2009 году. В том же году он стал одним из основателей продюсерской команды The Smeezingtons, ответственной за различные успешные синглы для самого Марса и других артистов. Марс прославился в 2010 году выпуском успешных синглов «Nothin' on You» для B.o.B и «Billionaire» для Трэви Маккоя, оба из которых использовали его вокал на хуках. Его дебютный студийный альбом Doo-Wops & Hooligans (2010) занял третье место в чарте Billboard 200 в Соединённых Штатах и \\u200b\\u200bдостиг вершины чартов альбомов в Канаде, Германии, Нидерландах и Великобритании. Это породило международные хиты «Just the Way You Are», «Grenade» и «The Lazy Song». Первый получил премию «Грэмми» за лучшее мужское вокальное поп-исполнение. В 2011 году Марс записал сингл «It Will Rain» для фильма «Сумерки. Сага. Рассвет — Часть 1».\\nВторой альбом Марса, Unorthodox Jukebox (2012), занял первое место в американском Billboard 200, в Австралии, Канаде, Швейцарии и в Великобритании, получив премию «Грэмми» за лучший вокальный поп-альбом . Его синглы «Locked Out of Heaven» и «When I Was Your Man» заняли первое место в американском чарте Billboard Hot 100. В 2014 году Марс сотрудничал с Марком Ронсоном в «Uptown Funk », который возглавлял многие музыкальные чарты по всему миру, включая чарты в США, Австралии, Канаде, Новой Зеландии и Великобритании. Песня выиграла два «Грэмми»: запись года и лучшее поп-исполнение дуэтом или группой. В 2016 году, Shampoo Press & Curl заменил The Smeezingtons в период написания третьего студийного альбома Марса 24K Magic, ориентированного на R&B. Пластинка дебютировала на второй строчке в Соединённых Штатах, Канаде, Франции и Новой Зеландии и получила семь «Грэмми», выиграв главные категории «Альбом года», «Запись года» и «Песня года» . Альбом дал успешные синглы «24K Magic» (2016), «That's What I Like» (2017) и «Finesse» (2018).\\nМарс продал более 130 миллионов пластинок по всему миру, что делает его одним из самых продаваемых артистов всех времён. Он выпустил семь синглов номер один на Billboard Hot 100 с момента его карьеры, начатой \\u200b\\u200bв 2010 году, достигнув первой пятёрки быстрее, чем любой мужчина-исполнитель после Элвиса Пресли. Как автор песен он был включен в журналы Music Week и Billboard как один из лучших авторов песен 2011 и 2013 годов, соответственно. Марс получил несколько наград и номинаций, в том числе 11 премий «Грэмми», три «Brit Awards», девять «American Music Awards», 10 «Soul Train Music Awards» и имеет три рекорда Гиннеса. Упоминался в Forbes Celebrity 100 (2018).\",\n",
       " 'Джон Ро́джер Сти́венс (англ. John Roger Stephens; род. 28 декабря 1978, Спрингфилд, Огайо, США), профессионально известный как Джон Ле́дженд (англ. John Legend), — американский певец, автор песен и актёр. Обладатель премий «Грэмми», «Оскар», «Тони» и «Эмми».']"
      ]
     },
     "execution_count": 40,
     "metadata": {},
     "output_type": "execute_result"
    }
   ],
   "source": [
    "summary"
   ]
  },
  {
   "cell_type": "code",
   "execution_count": 41,
   "metadata": {},
   "outputs": [],
   "source": [
    "sums_blob = [TextBlob(\"\".join(summary[i])) for i in range(3)]"
   ]
  },
  {
   "cell_type": "code",
   "execution_count": 42,
   "metadata": {},
   "outputs": [],
   "source": [
    "sums_blob = [sums_blob[i].replace(\"году\",\"\") for i in range(3)]"
   ]
  },
  {
   "cell_type": "code",
   "execution_count": 43,
   "metadata": {},
   "outputs": [],
   "source": [
    "words = [sums_blob[i].words.lower() for i in range(3)]"
   ]
  },
  {
   "cell_type": "code",
   "execution_count": 44,
   "metadata": {},
   "outputs": [],
   "source": [
    "sw = stopwords.words(\"russian\")"
   ]
  },
  {
   "cell_type": "code",
   "execution_count": 45,
   "metadata": {},
   "outputs": [],
   "source": [
    "without_sw = []\n",
    "for n in range(3):\n",
    "    without_sw.append([i for i in words[n] if i not in sw and i.isalnum()])"
   ]
  },
  {
   "cell_type": "markdown",
   "metadata": {},
   "source": [
    "# 2-b"
   ]
  },
  {
   "cell_type": "code",
   "execution_count": 46,
   "metadata": {},
   "outputs": [],
   "source": [
    "most_common = [Counter(without_sw[i]).most_common(5) for i in range(3)]"
   ]
  },
  {
   "cell_type": "code",
   "execution_count": 47,
   "metadata": {},
   "outputs": [
    {
     "data": {
      "text/plain": [
       "[[('ноулз', 9), ('альбом', 5), ('самых', 5), ('группы', 4), ('destiny', 4)],\n",
       " [('марс', 7), ('the', 5), ('billboard', 5), ('грэмми', 5), ('марса', 4)],\n",
       " [('джон', 2), ('англ', 2), ('john', 2), ('roger', 1), ('stephens', 1)]]"
      ]
     },
     "execution_count": 47,
     "metadata": {},
     "output_type": "execute_result"
    }
   ],
   "source": [
    "most_common"
   ]
  },
  {
   "cell_type": "markdown",
   "metadata": {},
   "source": [
    "# 3"
   ]
  },
  {
   "cell_type": "code",
   "execution_count": 48,
   "metadata": {},
   "outputs": [],
   "source": [
    "class human:\n",
    "    nationality = \"Armenian\"\n",
    "    def __init__(self,name,surname,profession,salary):\n",
    "        self.name = name\n",
    "        self.surname = surname\n",
    "        self.profession = profession\n",
    "        self.salary = salary\n",
    "    def desc(self):\n",
    "        return \"Hi, I am \" + self.name + \" \" + self.surname + \". I am a/an \" + self.profession + \" and I earn \" + self.salary + \" a month.\""
   ]
  },
  {
   "cell_type": "code",
   "execution_count": 49,
   "metadata": {},
   "outputs": [],
   "source": [
    "Aram = human(\"Aram\",\"Sahakyan\",\"actor\",\"2000 USD\")"
   ]
  },
  {
   "cell_type": "code",
   "execution_count": 50,
   "metadata": {},
   "outputs": [
    {
     "data": {
      "text/plain": [
       "'Armenian'"
      ]
     },
     "execution_count": 50,
     "metadata": {},
     "output_type": "execute_result"
    }
   ],
   "source": [
    "Aram.nationality"
   ]
  },
  {
   "cell_type": "code",
   "execution_count": 51,
   "metadata": {},
   "outputs": [
    {
     "data": {
      "text/plain": [
       "'Hi, I am Aram Sahakyan. I am a/an actor and I earn 2000 USD a month.'"
      ]
     },
     "execution_count": 51,
     "metadata": {},
     "output_type": "execute_result"
    }
   ],
   "source": [
    "Aram.desc()"
   ]
  },
  {
   "cell_type": "code",
   "execution_count": 52,
   "metadata": {},
   "outputs": [
    {
     "data": {
      "text/plain": [
       "'actor'"
      ]
     },
     "execution_count": 52,
     "metadata": {},
     "output_type": "execute_result"
    }
   ],
   "source": [
    "Aram.profession"
   ]
  },
  {
   "cell_type": "code",
   "execution_count": null,
   "metadata": {},
   "outputs": [],
   "source": []
  }
 ],
 "metadata": {
  "kernelspec": {
   "display_name": "Python 3",
   "language": "python",
   "name": "python3"
  },
  "language_info": {
   "codemirror_mode": {
    "name": "ipython",
    "version": 3
   },
   "file_extension": ".py",
   "mimetype": "text/x-python",
   "name": "python",
   "nbconvert_exporter": "python",
   "pygments_lexer": "ipython3",
   "version": "3.7.3"
  }
 },
 "nbformat": 4,
 "nbformat_minor": 2
}
